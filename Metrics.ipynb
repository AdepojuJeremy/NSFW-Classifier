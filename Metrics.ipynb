{
 "cells": [
  {
   "cell_type": "code",
   "execution_count": 1,
   "metadata": {},
   "outputs": [],
   "source": [
    "import pandas as pd\n",
    "df = pd.read_csv('results.csv')"
   ]
  },
  {
   "cell_type": "code",
   "execution_count": 2,
   "metadata": {},
   "outputs": [],
   "source": [
    "comparison = df.iloc[:, [1,2]].values"
   ]
  },
  {
   "cell_type": "code",
   "execution_count": 3,
   "metadata": {},
   "outputs": [
    {
     "name": "stdout",
     "output_type": "stream",
     "text": [
      "[[1901    2   28    7   45]\n",
      " [  13  494  755   11  186]\n",
      " [ 137   38 3492    7  473]\n",
      " [ 155   23   53  806   55]\n",
      " [  10    5   27    0 2413]]\n"
     ]
    }
   ],
   "source": [
    "import numpy as np\n",
    "samples = comparison.shape[0]\n",
    "conf_matrix = np.zeros( (5, 5) , dtype=np.int32 )\n",
    "\n",
    "for i in range(samples):\n",
    "    conf_matrix[ int(comparison[i][0]) ][ int(comparison[i][1])  ] += 1\n",
    "\n",
    "print(conf_matrix)"
   ]
  },
  {
   "cell_type": "code",
   "execution_count": 6,
   "metadata": {},
   "outputs": [
    {
     "name": "stdout",
     "output_type": "stream",
     "text": [
      "0.9728313095134097 0.9730595327807083 0.9975857073877354\n"
     ]
    }
   ],
   "source": [
    "safe_for_work_label = 3\n",
    "tp = 0\n",
    "for i in range(5):\n",
    "    for j in range(5):\n",
    "        if i != safe_for_work_label or j != safe_for_work_label:\n",
    "            tp += conf_matrix[i][j]\n",
    "\n",
    "\n",
    "tn = conf_matrix[3][3]\n",
    "\n",
    "fp = conf_matrix[3][0] + conf_matrix[3][1]  + conf_matrix[3][2] + conf_matrix[3][4]  \n",
    "fn = conf_matrix[2][3] + conf_matrix[1][3]  + conf_matrix[0][3] + conf_matrix[4][3] \n",
    "\n",
    "recall = tp / (tp + fn)\n",
    "precision = tp / (tp + fp)\n",
    "accuracy = (tp + tn) / (tp + fp + tn + fn)\n",
    "\n",
    "print(accuracy , precision , recall)\n"
   ]
  },
  {
   "cell_type": "code",
   "execution_count": null,
   "metadata": {},
   "outputs": [],
   "source": []
  }
 ],
 "metadata": {
  "kernelspec": {
   "display_name": "conda_amazonei_mxnet_p36",
   "language": "python",
   "name": "conda_amazonei_mxnet_p36"
  },
  "language_info": {
   "codemirror_mode": {
    "name": "ipython",
    "version": 3
   },
   "file_extension": ".py",
   "mimetype": "text/x-python",
   "name": "python",
   "nbconvert_exporter": "python",
   "pygments_lexer": "ipython3",
   "version": "3.6.5"
  }
 },
 "nbformat": 4,
 "nbformat_minor": 2
}
