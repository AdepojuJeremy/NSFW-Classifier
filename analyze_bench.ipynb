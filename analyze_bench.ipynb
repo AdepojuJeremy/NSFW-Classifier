{
 "cells": [
  {
   "cell_type": "code",
   "execution_count": 1,
   "metadata": {},
   "outputs": [],
   "source": [
    "#from useful_scripts.useful_scripts.csv_maker import make_results_csv"
   ]
  },
  {
   "cell_type": "code",
   "execution_count": 2,
   "metadata": {},
   "outputs": [],
   "source": [
    "#make_results_csv( 'bench_results' , '' , 'results_bench.csv'  , 'benchmark_images' )"
   ]
  },
  {
   "cell_type": "code",
   "execution_count": 1,
   "metadata": {},
   "outputs": [],
   "source": [
    "import pandas as pd\n",
    "df = pd.read_csv('results_bench.csv')\n"
   ]
  },
  {
   "cell_type": "code",
   "execution_count": 3,
   "metadata": {},
   "outputs": [
    {
     "data": {
      "text/html": [
       "<div>\n",
       "<style scoped>\n",
       "    .dataframe tbody tr th:only-of-type {\n",
       "        vertical-align: middle;\n",
       "    }\n",
       "\n",
       "    .dataframe tbody tr th {\n",
       "        vertical-align: top;\n",
       "    }\n",
       "\n",
       "    .dataframe thead th {\n",
       "        text-align: right;\n",
       "    }\n",
       "</style>\n",
       "<table border=\"1\" class=\"dataframe\">\n",
       "  <thead>\n",
       "    <tr style=\"text-align: right;\">\n",
       "      <th></th>\n",
       "      <th>Image_path</th>\n",
       "      <th>ground_truth_label</th>\n",
       "      <th>Predicted</th>\n",
       "    </tr>\n",
       "  </thead>\n",
       "  <tbody>\n",
       "    <tr>\n",
       "      <th>0</th>\n",
       "      <td>benchmark_images/animated/11.jpg</td>\n",
       "      <td>0</td>\n",
       "      <td>0</td>\n",
       "    </tr>\n",
       "    <tr>\n",
       "      <th>1</th>\n",
       "      <td>benchmark_images/animated/12.jpg</td>\n",
       "      <td>0</td>\n",
       "      <td>0</td>\n",
       "    </tr>\n",
       "    <tr>\n",
       "      <th>2</th>\n",
       "      <td>benchmark_images/animated/14.jpg</td>\n",
       "      <td>0</td>\n",
       "      <td>0</td>\n",
       "    </tr>\n",
       "    <tr>\n",
       "      <th>3</th>\n",
       "      <td>benchmark_images/animated/3.jpg</td>\n",
       "      <td>0</td>\n",
       "      <td>2</td>\n",
       "    </tr>\n",
       "    <tr>\n",
       "      <th>4</th>\n",
       "      <td>benchmark_images/animated/6.jpg</td>\n",
       "      <td>0</td>\n",
       "      <td>0</td>\n",
       "    </tr>\n",
       "  </tbody>\n",
       "</table>\n",
       "</div>"
      ],
      "text/plain": [
       "                         Image_path  ground_truth_label  Predicted\n",
       "0  benchmark_images/animated/11.jpg                   0          0\n",
       "1  benchmark_images/animated/12.jpg                   0          0\n",
       "2  benchmark_images/animated/14.jpg                   0          0\n",
       "3   benchmark_images/animated/3.jpg                   0          2\n",
       "4   benchmark_images/animated/6.jpg                   0          0"
      ]
     },
     "execution_count": 3,
     "metadata": {},
     "output_type": "execute_result"
    }
   ],
   "source": [
    "df.head()"
   ]
  },
  {
   "cell_type": "code",
   "execution_count": 4,
   "metadata": {},
   "outputs": [],
   "source": [
    "comparison = df.iloc[:, [1,2]].values"
   ]
  },
  {
   "cell_type": "code",
   "execution_count": 5,
   "metadata": {},
   "outputs": [
    {
     "name": "stdout",
     "output_type": "stream",
     "text": [
      "[[12  0  3  0  0]\n",
      " [ 0  1  9  0  4]\n",
      " [ 0  1  7  0  4]\n",
      " [ 3  2  3  0 12]\n",
      " [ 0  1  2  0 15]]\n"
     ]
    }
   ],
   "source": [
    "import numpy as np\n",
    "samples = comparison.shape[0]\n",
    "conf_matrix = np.zeros( (5, 5) , dtype=np.int32 )\n",
    "\n",
    "for i in range(samples):\n",
    "    conf_matrix[ int(comparison[i][0]) ][ int(comparison[i][1])  ] += 1\n",
    "\n",
    "print(conf_matrix)"
   ]
  },
  {
   "cell_type": "code",
   "execution_count": 6,
   "metadata": {},
   "outputs": [
    {
     "data": {
      "text/plain": [
       "<matplotlib.axes._subplots.AxesSubplot at 0x7faf9d55fe10>"
      ]
     },
     "execution_count": 6,
     "metadata": {},
     "output_type": "execute_result"
    },
    {
     "data": {
      "image/png": "[encoded data removed]",
      "text/plain": [
       "<Figure size 720x504 with 2 Axes>"
      ]
     },
     "metadata": {},
     "output_type": "display_data"
    }
   ],
   "source": [
    "import seaborn as sn\n",
    "import pandas as pd\n",
    "import matplotlib.pyplot as plt\n",
    "%matplotlib inline\n",
    "df_cm = pd.DataFrame(conf_matrix, index = ['animated_ori' , 'nude_ori' , 'porn_ori' , 'safe for work_ori' , 'semi_nude_ori'],\n",
    "                  columns = ['animated_pred' , 'nude_pred' , 'porn_pred' , 'safe for work_pred' , 'semi_nude_pred'])\n",
    "plt.figure(figsize = (10,7))\n",
    "sn.heatmap(df_cm, annot=True)"
   ]
  },
  {
   "cell_type": "code",
   "execution_count": 7,
   "metadata": {},
   "outputs": [],
   "source": [
    "wrong_examples = df[df['ground_truth_label'] != df['Predicted']].sample(n=9)"
   ]
  },
  {
   "cell_type": "code",
   "execution_count": 8,
   "metadata": {
    "scrolled": false
   },
   "outputs": [],
   "source": [
    "# from IPython.display import Image\n",
    "# from IPython.display import display\n",
    "\n",
    "\n",
    "\n",
    "# for i in range(9):\n",
    "#     x= Image(wrong_examples.iloc[i,0])\n",
    "#     display(x)\n",
    "\n",
    "# ;\n",
    "\n"
   ]
  },
  {
   "cell_type": "code",
   "execution_count": 9,
   "metadata": {},
   "outputs": [],
   "source": [
    "def get_metrics_for_single_class(class_label, conf_matrix):\n",
    "    tn = 0\n",
    "    for i in range(5):\n",
    "        for j in range(5):\n",
    "            if i != class_label or j != class_label:\n",
    "                tn += conf_matrix[i][j]\n",
    "\n",
    "\n",
    "    tp = conf_matrix[class_label][class_label]\n",
    "\n",
    "    fp = np.sum(conf_matrix[class_label][:]  ) - conf_matrix[class_label][class_label] \n",
    "    fn =  np.sum(conf_matrix[:][class_label] ) -conf_matrix[class_label][class_label]\n",
    "\n",
    "    recall = tp / (tp + fn)\n",
    "    precision = tp / (tp + fp)\n",
    "    accuracy = (tp + tn) / (tp + fp + tn + fn)\n",
    "    f1_score = (precision*recall)/ (precision+recall)\n",
    "    \n",
    "    return accuracy , precision , recall , f1_score "
   ]
  },
  {
   "cell_type": "code",
   "execution_count": 10,
   "metadata": {},
   "outputs": [
    {
     "name": "stdout",
     "output_type": "stream",
     "text": [
      "0.9294117647058824 0.8 0.8 0.4000000000000001\n"
     ]
    }
   ],
   "source": [
    "acc , pre , rec , f1 = get_metrics_for_single_class(0,conf_matrix)\n",
    "print(acc ,pre, rec , f1)"
   ]
  },
  {
   "cell_type": "code",
   "execution_count": 11,
   "metadata": {},
   "outputs": [
    {
     "name": "stdout",
     "output_type": "stream",
     "text": [
      "0.7523809523809524 0.07142857142857142 0.07142857142857142 0.03571428571428571\n"
     ]
    }
   ],
   "source": [
    "acc , pre , rec , f1 = get_metrics_for_single_class(1,conf_matrix)\n",
    "print(acc ,pre, rec , f1)"
   ]
  },
  {
   "cell_type": "code",
   "execution_count": 12,
   "metadata": {},
   "outputs": [
    {
     "name": "stdout",
     "output_type": "stream",
     "text": [
      "0.8876404494382022 0.5833333333333334 0.5833333333333334 0.2916666666666667\n"
     ]
    }
   ],
   "source": [
    "acc , pre , rec , f1 = get_metrics_for_single_class(2,conf_matrix)\n",
    "print(acc ,pre, rec , f1)"
   ]
  },
  {
   "cell_type": "code",
   "execution_count": 13,
   "metadata": {},
   "outputs": [
    {
     "name": "stdout",
     "output_type": "stream",
     "text": [
      "0.6638655462184874 0.0 0.0 nan\n"
     ]
    },
    {
     "name": "stderr",
     "output_type": "stream",
     "text": [
      "/home/ec2-user/anaconda3/envs/amazonei_mxnet_p36/lib/python3.6/site-packages/ipykernel/__main__.py:17: RuntimeWarning: invalid value encountered in double_scalars\n"
     ]
    }
   ],
   "source": [
    "acc , pre , rec , f1 = get_metrics_for_single_class(3,conf_matrix)\n",
    "print(acc ,pre, rec , f1)"
   ]
  },
  {
   "cell_type": "code",
   "execution_count": 15,
   "metadata": {},
   "outputs": [
    {
     "name": "stdout",
     "output_type": "stream",
     "text": [
      "0.9294117647058824 0.8333333333333334 0.8333333333333334 0.4166666666666667\n"
     ]
    }
   ],
   "source": [
    "acc , pre , rec , f1 = get_metrics_for_single_class(4,conf_matrix)\n",
    "print(acc ,pre, rec , f1)"
   ]
  },
  {
   "cell_type": "code",
   "execution_count": 16,
   "metadata": {},
   "outputs": [],
   "source": [
    "def get_metrics_for_nsfw():\n",
    "    safe_for_work_label = 3\n",
    "    tp = 0\n",
    "    for i in range(5):\n",
    "        for j in range(5):\n",
    "            if i != safe_for_work_label or j != safe_for_work_label:\n",
    "                tp += conf_matrix[i][j]\n",
    "\n",
    "\n",
    "    tn = conf_matrix[3][3]\n",
    "\n",
    "    fn = conf_matrix[3][0] + conf_matrix[3][1]  + conf_matrix[3][2] + conf_matrix[3][4]  \n",
    "    fp = conf_matrix[2][3] + conf_matrix[1][3]  + conf_matrix[0][3] + conf_matrix[4][3] \n",
    "\n",
    "    recall = tp / (tp + fn)\n",
    "    precision = tp / (tp + fp)\n",
    "    accuracy = (tp + tn) / (tp + fp + tn + fn)\n",
    "    f1_score = (precision*recall)/ (precision+recall)\n",
    "    return accuracy , precision , recall , f1_score\n"
   ]
  },
  {
   "cell_type": "code",
   "execution_count": 17,
   "metadata": {},
   "outputs": [
    {
     "name": "stdout",
     "output_type": "stream",
     "text": [
      "0.797979797979798 1.0 0.797979797979798 0.44382022471910115\n"
     ]
    }
   ],
   "source": [
    "acc , pre , rec , f1 = get_metrics_for_nsfw()\n",
    "print(acc ,pre, rec , f1)"
   ]
  },
  {
   "cell_type": "code",
   "execution_count": null,
   "metadata": {},
   "outputs": [],
   "source": []
  }
 ],
 "metadata": {
  "kernelspec": {
   "display_name": "conda_amazonei_mxnet_p36",
   "language": "python",
   "name": "conda_amazonei_mxnet_p36"
  },
  "language_info": {
   "codemirror_mode": {
    "name": "ipython",
    "version": 3
   },
   "file_extension": ".py",
   "mimetype": "text/x-python",
   "name": "python",
   "nbconvert_exporter": "python",
   "pygments_lexer": "ipython3",
   "version": "3.6.5"
  }
 },
 "nbformat": 4,
 "nbformat_minor": 2
}
